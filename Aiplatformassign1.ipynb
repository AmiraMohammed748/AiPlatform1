{
 "cells": [
  {
   "cell_type": "code",
   "execution_count": 1,
   "id": "edfd218f-9c42-4bc7-966c-d9b1b5325734",
   "metadata": {},
   "outputs": [],
   "source": [
    "import torch\n",
    "import torch.nn as nn\n",
    "import torch.nn.functional as F"
   ]
  },
  {
   "cell_type": "code",
   "execution_count": 3,
   "id": "a2e582b6-9edc-4294-aa1f-33c44c82b8b7",
   "metadata": {},
   "outputs": [],
   "source": [
    "class CustomNet(nn.Module):\n",
    "    def __init__(self):\n",
    "        super(CustomNet, self).__init__()\n",
    "\n",
    "        # Layer 1: 1 input → 3 neurons\n",
    "        self.fc1 = nn.Linear(1, 3)\n",
    "\n",
    "        # Layer 2: 3 inputs → 2 neurons\n",
    "        self.fc2 = nn.Linear(3, 2)\n",
    "\n",
    "        # Output layer: 1 input → 1 neuron\n",
    "        self.fc3 = nn.Linear(1, 1)\n",
    "\n",
    "    def forward(self, x):\n",
    "        # Layer 1 with ReLU activation\n",
    "        out1 = F.relu(self.fc1(x))\n",
    "\n",
    "        # Layer 2 with Sigmoid activation\n",
    "        out2 = torch.sigmoid(self.fc2(out1))\n",
    "\n",
    "        # Combine both outputs and apply Tanh\n",
    "        combined = torch.tanh(out2.sum(dim=1, keepdim=True))\n",
    "\n",
    "        # Output layer (linear)\n",
    "        output = self.fc3(combined)\n",
    "        return output\n"
   ]
  },
  {
   "cell_type": "code",
   "execution_count": 5,
   "id": "11b32a33-2db9-4148-a421-2027dd52eee9",
   "metadata": {},
   "outputs": [],
   "source": [
    "x = torch.tensor([[1.0], [2.0], [3.0], [4.0]])  # inputs\n",
    "y = torch.tensor([[2.0], [4.0], [6.0], [8.0]])  # targets"
   ]
  },
  {
   "cell_type": "code",
   "execution_count": 7,
   "id": "8ac71118-478d-4487-8da7-ad416ae7a17c",
   "metadata": {},
   "outputs": [],
   "source": [
    "model = CustomNet()\n",
    "criterion = nn.MSELoss()\n",
    "optimizer = torch.optim.SGD(model.parameters(), lr=0.01)"
   ]
  },
  {
   "cell_type": "code",
   "execution_count": null,
   "id": "223c2238-ba03-4617-944c-1c2199f0a384",
   "metadata": {},
   "outputs": [],
   "source": []
  }
 ],
 "metadata": {
  "kernelspec": {
   "display_name": "Python 3 (ipykernel)",
   "language": "python",
   "name": "python3"
  },
  "language_info": {
   "codemirror_mode": {
    "name": "ipython",
    "version": 3
   },
   "file_extension": ".py",
   "mimetype": "text/x-python",
   "name": "python",
   "nbconvert_exporter": "python",
   "pygments_lexer": "ipython3",
   "version": "3.12.7"
  }
 },
 "nbformat": 4,
 "nbformat_minor": 5
}
